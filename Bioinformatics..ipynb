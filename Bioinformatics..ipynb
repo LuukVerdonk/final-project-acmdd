{
 "cells": [
  {
   "cell_type": "markdown",
   "metadata": {},
   "source": [
    "# Bioinformatics\n",
    "ownership of the code goes to Willem Jespers: https://github.com/jesperswillem/CBR_teaching#cbr_teaching. The original code was adapted for this specific project."
   ]
  },
  {
   "cell_type": "code",
   "execution_count": 1,
   "metadata": {},
   "outputs": [
    {
     "data": {
      "application/vnd.jupyter.widget-view+json": {
       "model_id": "cf9607121e804aca904c757ac4cac890",
       "version_major": 2,
       "version_minor": 0
      },
      "text/plain": []
     },
     "metadata": {},
     "output_type": "display_data"
    },
    {
     "name": "stderr",
     "output_type": "stream",
     "text": [
      "/opt/conda/lib/python3.9/site-packages/Bio/pairwise2.py:278: BiopythonDeprecationWarning: Bio.pairwise2 has been deprecated, and we intend to remove it in a future release of Biopython. As an alternative, please consider using Bio.Align.PairwiseAligner as a replacement, and contact the Biopython developers if you still need the Bio.pairwise2 module.\n",
      "  warnings.warn(\n",
      "/opt/conda/lib/python3.9/site-packages/Bio/Data/SCOPData.py:18: BiopythonDeprecationWarning: The 'Bio.Data.SCOPData' module will be deprecated in a future release of Biopython in favor of 'Bio.Data.PDBData.\n",
      "  warnings.warn(\n"
     ]
    }
   ],
   "source": [
    "\n",
    "import nglview\n",
    "import os\n",
    "import shutil\n",
    "\n",
    "from Bio.PDB import PDBList, MMCIFParser, Select, PDBIO\n",
    "import Bio.Align\n",
    "import os\n",
    "from pathlib import Path\n",
    "import rdkit\n",
    "\n",
    "\n",
    "from scripts import viewer\n",
    "from scripts import bio_align"
   ]
  },
  {
   "cell_type": "code",
   "execution_count": 2,
   "metadata": {
    "scrolled": true
   },
   "outputs": [
    {
     "name": "stdout",
     "output_type": "stream",
     "text": [
      "Directory already exists\n"
     ]
    }
   ],
   "source": [
    "HOMEDIR = str(Path.home())\n",
    "os.chdir(HOMEDIR)\n",
    "\n",
    "try:\n",
    "    os.mkdir('Bioinformatics')\n",
    "except:\n",
    "    print(\"Directory already exists\")\n",
    "os.chdir('Bioinformatics')"
   ]
  },
  {
   "cell_type": "code",
   "execution_count": 3,
   "metadata": {
    "scrolled": true
   },
   "outputs": [
    {
     "data": {
      "application/vnd.jupyter.widget-view+json": {
       "model_id": "088fd80190414bc2b7a6bd61bcc31b5f",
       "version_major": 2,
       "version_minor": 0
      },
      "text/plain": [
       "NGLWidget()"
      ]
     },
     "metadata": {},
     "output_type": "display_data"
    }
   ],
   "source": [
    "TARGET_PDB_ID = \"6LUQ\" \n",
    "view = nglview.show_pdbid(TARGET_PDB_ID)\n",
    "view.center()\n",
    "view"
   ]
  },
  {
   "cell_type": "code",
   "execution_count": 4,
   "metadata": {},
   "outputs": [
    {
     "data": {
      "application/vnd.jupyter.widget-view+json": {
       "model_id": "088fd80190414bc2b7a6bd61bcc31b5f",
       "version_major": 2,
       "version_minor": 0
      },
      "text/plain": [
       "NGLWidget()"
      ]
     },
     "metadata": {},
     "output_type": "display_data"
    }
   ],
   "source": [
    "LIGAND_CODE = \"GMJ\" \n",
    "\n",
    "view.center(LIGAND_CODE)\n",
    "view"
   ]
  },
  {
   "cell_type": "code",
   "execution_count": 5,
   "metadata": {
    "scrolled": true
   },
   "outputs": [
    {
     "data": {
      "application/vnd.jupyter.widget-view+json": {
       "model_id": "088fd80190414bc2b7a6bd61bcc31b5f",
       "version_major": 2,
       "version_minor": 0
      },
      "text/plain": [
       "NGLWidget()"
      ]
     },
     "metadata": {},
     "output_type": "display_data"
    }
   ],
   "source": [
    "viewer.show_residues_around(view, selection=LIGAND_CODE)\n",
    "view"
   ]
  },
  {
   "cell_type": "code",
   "execution_count": 6,
   "metadata": {
    "scrolled": false
   },
   "outputs": [
    {
     "name": "stdout",
     "output_type": "stream",
     "text": [
      "Structure exists: '6LUQ/6luq.cif' \n"
     ]
    },
    {
     "name": "stderr",
     "output_type": "stream",
     "text": [
      "WARNING: The default download format has changed from PDB to PDBx/mmCif\n"
     ]
    },
    {
     "data": {
      "text/plain": [
       "'6LUQ/6luq.cif'"
      ]
     },
     "execution_count": 6,
     "metadata": {},
     "output_type": "execute_result"
    }
   ],
   "source": [
    "pdbl = PDBList()\n",
    "pdbl.retrieve_pdb_file(TARGET_PDB_ID, pdir=TARGET_PDB_ID)"
   ]
  },
  {
   "cell_type": "code",
   "execution_count": 7,
   "metadata": {},
   "outputs": [],
   "source": [
    "parser = MMCIFParser()\n",
    "structure = parser.get_structure(\"TARGETPROT\",'{}/{}.cif'.format(TARGET_PDB_ID,TARGET_PDB_ID.lower()))"
   ]
  },
  {
   "cell_type": "code",
   "execution_count": 8,
   "metadata": {},
   "outputs": [],
   "source": [
    "class ResSelect(Select):\n",
    "    def accept_residue(self, residue):\n",
    "        if residue.get_resname() == LIGAND_CODE:\n",
    "            return 1\n",
    "        else:\n",
    "            return 0\n",
    "\n",
    "class NonHetSelect(Select):\n",
    "    def accept_residue(self, residue):\n",
    "        return 1 if residue.id[0] == \" \" else 0\n",
    "\n",
    "io = PDBIO()\n",
    "io.set_structure(structure)\n",
    "io.save(\"ligand-{}.pdb\".format(LIGAND_CODE), ResSelect())\n",
    "io.save(\"protein-{}.pdb\".format(TARGET_PDB_ID), NonHetSelect())"
   ]
  },
  {
   "cell_type": "code",
   "execution_count": 9,
   "metadata": {
    "scrolled": false
   },
   "outputs": [
    {
     "data": {
      "text/plain": [
       "'6LUQ_prepped.pdb'"
      ]
     },
     "execution_count": 9,
     "metadata": {},
     "output_type": "execute_result"
    }
   ],
   "source": [
    "command = '../final-project-acmdd/bin/lepro protein-{}.pdb'.format(TARGET_PDB_ID)\n",
    "os.system(command)\n",
    "shutil.move('pro.pdb','{}_prepped.pdb'.format(TARGET_PDB_ID))"
   ]
  },
  {
   "cell_type": "code",
   "execution_count": 10,
   "metadata": {},
   "outputs": [],
   "source": [
    "filenames = [\n",
    "'{}_prepped.pdb'.format(TARGET_PDB_ID),\n",
    "\"ligand-{}.pdb\".format(LIGAND_CODE)\n",
    "]\n",
    "with open('{}-complex.pdb'.format(TARGET_PDB_ID), 'w') as outfile:\n",
    "    for fname in filenames:\n",
    "        with open(fname) as infile:\n",
    "            for line in infile:\n",
    "                if not \"END\" in line:\n",
    "                    outfile.write(line)"
   ]
  },
  {
   "cell_type": "code",
   "execution_count": 11,
   "metadata": {},
   "outputs": [
    {
     "data": {
      "application/vnd.jupyter.widget-view+json": {
       "model_id": "b4c5c8ec26d644ccb185bc13be33063c",
       "version_major": 2,
       "version_minor": 0
      },
      "text/plain": [
       "NGLWidget()"
      ]
     },
     "metadata": {},
     "output_type": "display_data"
    }
   ],
   "source": [
    "with open('{}-complex.pdb'.format(TARGET_PDB_ID)) as f:\n",
    "    view = nglview.show_file(f, ext=\"pdb\")\n",
    "    \n",
    "view.center(LIGAND_CODE)\n",
    "viewer.show_residues_around(view, selection=LIGAND_CODE)\n",
    "view"
   ]
  }
 ],
 "metadata": {
  "kernelspec": {
   "display_name": "Python 3 (ipykernel)",
   "language": "python",
   "name": "python3"
  },
  "language_info": {
   "codemirror_mode": {
    "name": "ipython",
    "version": 3
   },
   "file_extension": ".py",
   "mimetype": "text/x-python",
   "name": "python",
   "nbconvert_exporter": "python",
   "pygments_lexer": "ipython3",
   "version": "3.9.13"
  }
 },
 "nbformat": 4,
 "nbformat_minor": 4
}
