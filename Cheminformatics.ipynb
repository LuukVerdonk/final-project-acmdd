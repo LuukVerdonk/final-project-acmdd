{
 "cells": [
  {
   "cell_type": "markdown",
   "metadata": {},
   "source": [
    "# Cheminformatics\n",
    "ownership of the code goes to Willem Jespers: https://github.com/jesperswillem/CBR_teaching#cbr_teaching.\n",
    "The original code was adapted for this specific project."
   ]
  },
  {
   "cell_type": "markdown",
   "metadata": {},
   "source": [
    "## This lab is in part adapted from TeachOpenCADD\n",
    "(https://noteable-beta.edina.ac.uk/user/wmk69tm57bfauozjthxzn1/tree/teachopencadd.git/teachopencadd/talktorials)"
   ]
  },
  {
   "cell_type": "code",
   "execution_count": 32,
   "metadata": {},
   "outputs": [],
   "source": [
    "from pathlib import Path\n",
    "from warnings import filterwarnings\n",
    "import time\n",
    "\n",
    "import pandas as pd\n",
    "import numpy as np\n",
    "from sklearn import svm, metrics, clone\n",
    "from sklearn.ensemble import RandomForestClassifier\n",
    "from sklearn.ensemble import RandomForestRegressor\n",
    "from sklearn.neural_network import MLPClassifier\n",
    "from sklearn.model_selection import KFold, train_test_split\n",
    "from sklearn.metrics import auc, accuracy_score, recall_score\n",
    "from sklearn.metrics import roc_curve, roc_auc_score\n",
    "import matplotlib.pyplot as plt\n",
    "from rdkit import Chem\n",
    "from rdkit.Chem import MACCSkeys\n",
    "from rdkit.Chem.AllChem import GetMorganFingerprintAsBitVect\n",
    "\n",
    "filterwarnings(\"ignore\")\n",
    "SEED = 22"
   ]
  },
  {
   "cell_type": "code",
   "execution_count": 33,
   "metadata": {},
   "outputs": [
    {
     "name": "stdout",
     "output_type": "stream",
     "text": [
      "Directory already exists\n"
     ]
    }
   ],
   "source": [
    "import os\n",
    "from pathlib import Path\n",
    "HOMEDIR = str(Path.home())\n",
    "os.chdir(HOMEDIR)\n",
    "try:\n",
    "    os.mkdir('Cheminformatics')\n",
    "except:\n",
    "    print(\"Directory already exists\")\n",
    "os.chdir('Cheminformatics')"
   ]
  },
  {
   "cell_type": "code",
   "execution_count": 34,
   "metadata": {},
   "outputs": [
    {
     "name": "stdout",
     "output_type": "stream",
     "text": [
      "There are a total of 22045 datapoints in this set\n"
     ]
    },
    {
     "data": {
      "text/html": [
       "<div>\n",
       "<style scoped>\n",
       "    .dataframe tbody tr th:only-of-type {\n",
       "        vertical-align: middle;\n",
       "    }\n",
       "\n",
       "    .dataframe tbody tr th {\n",
       "        vertical-align: top;\n",
       "    }\n",
       "\n",
       "    .dataframe thead th {\n",
       "        text-align: right;\n",
       "    }\n",
       "</style>\n",
       "<table border=\"1\" class=\"dataframe\">\n",
       "  <thead>\n",
       "    <tr style=\"text-align: right;\">\n",
       "      <th></th>\n",
       "      <th>Molecule ChEMBL ID</th>\n",
       "      <th>Molecule Name</th>\n",
       "      <th>Molecule Max Phase</th>\n",
       "      <th>Molecular Weight</th>\n",
       "      <th>#RO5 Violations</th>\n",
       "      <th>AlogP</th>\n",
       "      <th>Compound Key</th>\n",
       "      <th>Smiles</th>\n",
       "      <th>Standard Type</th>\n",
       "      <th>Standard Relation</th>\n",
       "      <th>...</th>\n",
       "      <th>Target Organism</th>\n",
       "      <th>Target Type</th>\n",
       "      <th>Document ChEMBL ID</th>\n",
       "      <th>Source ID</th>\n",
       "      <th>Source Description</th>\n",
       "      <th>Document Journal</th>\n",
       "      <th>Document Year</th>\n",
       "      <th>Cell ChEMBL ID</th>\n",
       "      <th>Properties</th>\n",
       "      <th>Action Type</th>\n",
       "    </tr>\n",
       "  </thead>\n",
       "  <tbody>\n",
       "    <tr>\n",
       "      <th>0</th>\n",
       "      <td>CHEMBL228278</td>\n",
       "      <td>NaN</td>\n",
       "      <td>None</td>\n",
       "      <td>514.69</td>\n",
       "      <td>1</td>\n",
       "      <td>4.71</td>\n",
       "      <td>trans-14</td>\n",
       "      <td>COc1ccc(S(=O)(=O)N[C@H]2CC[C@H](N3CCC(c4ccccc4...</td>\n",
       "      <td>Ki</td>\n",
       "      <td>'='</td>\n",
       "      <td>...</td>\n",
       "      <td>Homo sapiens</td>\n",
       "      <td>SINGLE PROTEIN</td>\n",
       "      <td>CHEMBL1137555</td>\n",
       "      <td>1</td>\n",
       "      <td>Scientific Literature</td>\n",
       "      <td>Bioorg Med Chem Lett</td>\n",
       "      <td>2007.0</td>\n",
       "      <td>None</td>\n",
       "      <td>NaN</td>\n",
       "      <td>NaN</td>\n",
       "    </tr>\n",
       "    <tr>\n",
       "      <th>1</th>\n",
       "      <td>CHEMBL390129</td>\n",
       "      <td>NaN</td>\n",
       "      <td>None</td>\n",
       "      <td>516.70</td>\n",
       "      <td>1</td>\n",
       "      <td>4.96</td>\n",
       "      <td>cis-13</td>\n",
       "      <td>COc1ccc(S(=O)(=O)N[C@H]2CC[C@@H](N3CCC(c4ccccc...</td>\n",
       "      <td>Ki</td>\n",
       "      <td>'='</td>\n",
       "      <td>...</td>\n",
       "      <td>Homo sapiens</td>\n",
       "      <td>SINGLE PROTEIN</td>\n",
       "      <td>CHEMBL1137555</td>\n",
       "      <td>1</td>\n",
       "      <td>Scientific Literature</td>\n",
       "      <td>Bioorg Med Chem Lett</td>\n",
       "      <td>2007.0</td>\n",
       "      <td>None</td>\n",
       "      <td>NaN</td>\n",
       "      <td>NaN</td>\n",
       "    </tr>\n",
       "    <tr>\n",
       "      <th>2</th>\n",
       "      <td>CHEMBL256597</td>\n",
       "      <td>NaN</td>\n",
       "      <td>None</td>\n",
       "      <td>505.49</td>\n",
       "      <td>2</td>\n",
       "      <td>6.04</td>\n",
       "      <td>trans-16</td>\n",
       "      <td>CC(C)Oc1ccccc1N1CCN(C2CCC(NC(=O)Nc3c(Cl)cccc3C...</td>\n",
       "      <td>Ki</td>\n",
       "      <td>'='</td>\n",
       "      <td>...</td>\n",
       "      <td>Homo sapiens</td>\n",
       "      <td>SINGLE PROTEIN</td>\n",
       "      <td>CHEMBL1143857</td>\n",
       "      <td>1</td>\n",
       "      <td>Scientific Literature</td>\n",
       "      <td>Bioorg Med Chem Lett</td>\n",
       "      <td>2008.0</td>\n",
       "      <td>None</td>\n",
       "      <td>NaN</td>\n",
       "      <td>NaN</td>\n",
       "    </tr>\n",
       "    <tr>\n",
       "      <th>3</th>\n",
       "      <td>CHEMBL209832</td>\n",
       "      <td>NaN</td>\n",
       "      <td>None</td>\n",
       "      <td>320.40</td>\n",
       "      <td>0</td>\n",
       "      <td>1.98</td>\n",
       "      <td>3i</td>\n",
       "      <td>c1ccc(-n2cc(CN3CCN(c4ncccn4)CC3)cn2)cc1</td>\n",
       "      <td>Ki</td>\n",
       "      <td>'='</td>\n",
       "      <td>...</td>\n",
       "      <td>Homo sapiens</td>\n",
       "      <td>SINGLE PROTEIN</td>\n",
       "      <td>CHEMBL1147793</td>\n",
       "      <td>1</td>\n",
       "      <td>Scientific Literature</td>\n",
       "      <td>Bioorg Med Chem Lett</td>\n",
       "      <td>2006.0</td>\n",
       "      <td>CHEMBL3308072</td>\n",
       "      <td>NaN</td>\n",
       "      <td>NaN</td>\n",
       "    </tr>\n",
       "    <tr>\n",
       "      <th>4</th>\n",
       "      <td>CHEMBL256475</td>\n",
       "      <td>NaN</td>\n",
       "      <td>None</td>\n",
       "      <td>438.56</td>\n",
       "      <td>0</td>\n",
       "      <td>3.81</td>\n",
       "      <td>19</td>\n",
       "      <td>Cc1ncoc1-c1nnc(SCCCN2CCc3cc4onc(C)c4cc3CC2)n1C</td>\n",
       "      <td>Ki</td>\n",
       "      <td>'&gt;'</td>\n",
       "      <td>...</td>\n",
       "      <td>Homo sapiens</td>\n",
       "      <td>SINGLE PROTEIN</td>\n",
       "      <td>CHEMBL1142271</td>\n",
       "      <td>1</td>\n",
       "      <td>Scientific Literature</td>\n",
       "      <td>Bioorg Med Chem Lett</td>\n",
       "      <td>2008.0</td>\n",
       "      <td>None</td>\n",
       "      <td>NaN</td>\n",
       "      <td>NaN</td>\n",
       "    </tr>\n",
       "  </tbody>\n",
       "</table>\n",
       "<p>5 rows × 46 columns</p>\n",
       "</div>"
      ],
      "text/plain": [
       "  Molecule ChEMBL ID Molecule Name Molecule Max Phase Molecular Weight  \\\n",
       "0       CHEMBL228278           NaN               None           514.69   \n",
       "1       CHEMBL390129           NaN               None           516.70   \n",
       "2       CHEMBL256597           NaN               None           505.49   \n",
       "3       CHEMBL209832           NaN               None           320.40   \n",
       "4       CHEMBL256475           NaN               None           438.56   \n",
       "\n",
       "  #RO5 Violations AlogP Compound Key  \\\n",
       "0               1  4.71     trans-14   \n",
       "1               1  4.96       cis-13   \n",
       "2               2  6.04     trans-16   \n",
       "3               0  1.98           3i   \n",
       "4               0  3.81           19   \n",
       "\n",
       "                                              Smiles Standard Type  \\\n",
       "0  COc1ccc(S(=O)(=O)N[C@H]2CC[C@H](N3CCC(c4ccccc4...            Ki   \n",
       "1  COc1ccc(S(=O)(=O)N[C@H]2CC[C@@H](N3CCC(c4ccccc...            Ki   \n",
       "2  CC(C)Oc1ccccc1N1CCN(C2CCC(NC(=O)Nc3c(Cl)cccc3C...            Ki   \n",
       "3            c1ccc(-n2cc(CN3CCN(c4ncccn4)CC3)cn2)cc1            Ki   \n",
       "4     Cc1ncoc1-c1nnc(SCCCN2CCc3cc4onc(C)c4cc3CC2)n1C            Ki   \n",
       "\n",
       "  Standard Relation  ...  Target Organism     Target Type  Document ChEMBL ID  \\\n",
       "0               '='  ...     Homo sapiens  SINGLE PROTEIN       CHEMBL1137555   \n",
       "1               '='  ...     Homo sapiens  SINGLE PROTEIN       CHEMBL1137555   \n",
       "2               '='  ...     Homo sapiens  SINGLE PROTEIN       CHEMBL1143857   \n",
       "3               '='  ...     Homo sapiens  SINGLE PROTEIN       CHEMBL1147793   \n",
       "4               '>'  ...     Homo sapiens  SINGLE PROTEIN       CHEMBL1142271   \n",
       "\n",
       "  Source ID     Source Description      Document Journal  Document Year  \\\n",
       "0         1  Scientific Literature  Bioorg Med Chem Lett         2007.0   \n",
       "1         1  Scientific Literature  Bioorg Med Chem Lett         2007.0   \n",
       "2         1  Scientific Literature  Bioorg Med Chem Lett         2008.0   \n",
       "3         1  Scientific Literature  Bioorg Med Chem Lett         2006.0   \n",
       "4         1  Scientific Literature  Bioorg Med Chem Lett         2008.0   \n",
       "\n",
       "  Cell ChEMBL ID Properties Action Type  \n",
       "0           None        NaN         NaN  \n",
       "1           None        NaN         NaN  \n",
       "2           None        NaN         NaN  \n",
       "3  CHEMBL3308072        NaN         NaN  \n",
       "4           None        NaN         NaN  \n",
       "\n",
       "[5 rows x 46 columns]"
      ]
     },
     "execution_count": 34,
     "metadata": {},
     "output_type": "execute_result"
    }
   ],
   "source": [
    "CHEMBLID = 'CHEMBL217'\n",
    "FILENAME = 'CHEMBL217'\n",
    "\n",
    "data = pd.read_csv(FILENAME, sep='\\t')\n",
    "print(\"There are a total of {} datapoints in this set\".format(len(data)))\n",
    "data.head()\n"
   ]
  },
  {
   "cell_type": "code",
   "execution_count": 4,
   "metadata": {},
   "outputs": [
    {
     "data": {
      "text/html": [
       "<div>\n",
       "<style scoped>\n",
       "    .dataframe tbody tr th:only-of-type {\n",
       "        vertical-align: middle;\n",
       "    }\n",
       "\n",
       "    .dataframe tbody tr th {\n",
       "        vertical-align: top;\n",
       "    }\n",
       "\n",
       "    .dataframe thead th {\n",
       "        text-align: right;\n",
       "    }\n",
       "</style>\n",
       "<table border=\"1\" class=\"dataframe\">\n",
       "  <thead>\n",
       "    <tr style=\"text-align: right;\">\n",
       "      <th></th>\n",
       "      <th>Molecule ChEMBL ID</th>\n",
       "      <th>pChEMBL_value</th>\n",
       "      <th>Smiles</th>\n",
       "      <th>Assay_Type</th>\n",
       "      <th>Standard Relation</th>\n",
       "      <th>Standard Value</th>\n",
       "    </tr>\n",
       "  </thead>\n",
       "  <tbody>\n",
       "    <tr>\n",
       "      <th>0</th>\n",
       "      <td>CHEMBL228278</td>\n",
       "      <td>6.88</td>\n",
       "      <td>COc1ccc(S(=O)(=O)N[C@H]2CC[C@H](N3CCC(c4ccccc4...</td>\n",
       "      <td>B</td>\n",
       "      <td>'='</td>\n",
       "      <td>133.00</td>\n",
       "    </tr>\n",
       "    <tr>\n",
       "      <th>1</th>\n",
       "      <td>CHEMBL390129</td>\n",
       "      <td>6.78</td>\n",
       "      <td>COc1ccc(S(=O)(=O)N[C@H]2CC[C@@H](N3CCC(c4ccccc...</td>\n",
       "      <td>B</td>\n",
       "      <td>'='</td>\n",
       "      <td>165.00</td>\n",
       "    </tr>\n",
       "    <tr>\n",
       "      <th>2</th>\n",
       "      <td>CHEMBL256597</td>\n",
       "      <td>8.33</td>\n",
       "      <td>CC(C)Oc1ccccc1N1CCN(C2CCC(NC(=O)Nc3c(Cl)cccc3C...</td>\n",
       "      <td>B</td>\n",
       "      <td>'='</td>\n",
       "      <td>4.70</td>\n",
       "    </tr>\n",
       "    <tr>\n",
       "      <th>3</th>\n",
       "      <td>CHEMBL209832</td>\n",
       "      <td>5.22</td>\n",
       "      <td>c1ccc(-n2cc(CN3CCN(c4ncccn4)CC3)cn2)cc1</td>\n",
       "      <td>B</td>\n",
       "      <td>'='</td>\n",
       "      <td>6000.00</td>\n",
       "    </tr>\n",
       "    <tr>\n",
       "      <th>4</th>\n",
       "      <td>CHEMBL256475</td>\n",
       "      <td>NaN</td>\n",
       "      <td>Cc1ncoc1-c1nnc(SCCCN2CCc3cc4onc(C)c4cc3CC2)n1C</td>\n",
       "      <td>F</td>\n",
       "      <td>'&gt;'</td>\n",
       "      <td>1258.93</td>\n",
       "    </tr>\n",
       "  </tbody>\n",
       "</table>\n",
       "</div>"
      ],
      "text/plain": [
       "  Molecule ChEMBL ID  pChEMBL_value  \\\n",
       "0       CHEMBL228278           6.88   \n",
       "1       CHEMBL390129           6.78   \n",
       "2       CHEMBL256597           8.33   \n",
       "3       CHEMBL209832           5.22   \n",
       "4       CHEMBL256475            NaN   \n",
       "\n",
       "                                              Smiles Assay_Type  \\\n",
       "0  COc1ccc(S(=O)(=O)N[C@H]2CC[C@H](N3CCC(c4ccccc4...          B   \n",
       "1  COc1ccc(S(=O)(=O)N[C@H]2CC[C@@H](N3CCC(c4ccccc...          B   \n",
       "2  CC(C)Oc1ccccc1N1CCN(C2CCC(NC(=O)Nc3c(Cl)cccc3C...          B   \n",
       "3            c1ccc(-n2cc(CN3CCN(c4ncccn4)CC3)cn2)cc1          B   \n",
       "4     Cc1ncoc1-c1nnc(SCCCN2CCc3cc4onc(C)c4cc3CC2)n1C          F   \n",
       "\n",
       "  Standard Relation  Standard Value  \n",
       "0               '='          133.00  \n",
       "1               '='          165.00  \n",
       "2               '='            4.70  \n",
       "3               '='         6000.00  \n",
       "4               '>'         1258.93  "
      ]
     },
     "execution_count": 4,
     "metadata": {},
     "output_type": "execute_result"
    }
   ],
   "source": [
    "pd_data = data[['Molecule ChEMBL ID','pChEMBL Value','Smiles','Assay Type', 'Standard Relation','Standard Value']]\n",
    "pd_data.rename(columns={'pChEMBL Value': 'pChEMBL_value', 'Assay Type':'Assay_Type'}, inplace=True)\n",
    "pd_data.head()"
   ]
  },
  {
   "cell_type": "code",
   "execution_count": 5,
   "metadata": {
    "scrolled": false
   },
   "outputs": [
    {
     "name": "stdout",
     "output_type": "stream",
     "text": [
      "Number of active compounds: 7671\n",
      "Number of inactive compounds: 14374\n"
     ]
    }
   ],
   "source": [
    "import numpy as np\n",
    "pd_data[\"active\"] = np.zeros(len(pd_data))\n",
    "\n",
    "pd_data.loc[pd_data[pd_data.pChEMBL_value >= 6.5].index, \"active\"] = 1.0\n",
    "\n",
    "print(\"Number of active compounds:\", int(pd_data.active.sum()))\n",
    "print(\"Number of inactive compounds:\", len(pd_data) - int(pd_data.active.sum()))"
   ]
  },
  {
   "cell_type": "code",
   "execution_count": 6,
   "metadata": {},
   "outputs": [
    {
     "name": "stdout",
     "output_type": "stream",
     "text": [
      "We have a total of 16725 activity points left\n"
     ]
    }
   ],
   "source": [
    "pd_data.drop(pd_data[pd_data.Assay_Type != 'B'].index, inplace=True)\n",
    "\n",
    "print(\"We have a total of {} activity points left\".format(len(pd_data)))"
   ]
  },
  {
   "cell_type": "code",
   "execution_count": 7,
   "metadata": {},
   "outputs": [],
   "source": [
    "HERE = Path(_dh[-1])\n",
    "DATA = HERE / \"data\""
   ]
  },
  {
   "cell_type": "code",
   "execution_count": 8,
   "metadata": {},
   "outputs": [],
   "source": [
    "def smiles_to_fp(smiles, method=\"maccs\", n_bits=2048):\n",
    "    \"\"\"\n",
    "    Encode a molecule from a SMILES string into a fingerprint.\n",
    "\n",
    "    Parameters\n",
    "    ----------\n",
    "    smiles : str\n",
    "        The SMILES string defining the molecule.\n",
    "\n",
    "    method : str\n",
    "        The type of fingerprint to use. Default is MACCS keys.\n",
    "\n",
    "    n_bits : int\n",
    "        The length of the fingerprint.\n",
    "\n",
    "    Returns\n",
    "    -------\n",
    "    array\n",
    "        The fingerprint array.\n",
    "\n",
    "    \"\"\"\n",
    "\n",
    "    \n",
    "    try:\n",
    "        mol = Chem.MolFromSmiles(smiles)\n",
    "        \n",
    "    except:\n",
    "        return('NaN')\n",
    "\n",
    "    if method == \"maccs\":\n",
    "        return np.array(MACCSkeys.GenMACCSKeys(mol))\n",
    "    if method == \"morgan2\":\n",
    "        return np.array(GetMorganFingerprintAsBitVect(mol, 2, nBits=n_bits))\n",
    "    if method == \"morgan3\":\n",
    "        return np.array(GetMorganFingerprintAsBitVect(mol, 3, nBits=n_bits))\n",
    "    else:\n",
    "        # NBVAL_CHECK_OUTPUT\n",
    "        print(f\"Warning: Wrong method specified: {method}. Default will be used instead.\")\n",
    "        return np.array(MACCSkeys.GenMACCSKeys(mol))"
   ]
  },
  {
   "cell_type": "code",
   "execution_count": 9,
   "metadata": {},
   "outputs": [],
   "source": [
    "compound_df = pd_data.copy()"
   ]
  },
  {
   "cell_type": "code",
   "execution_count": 10,
   "metadata": {},
   "outputs": [
    {
     "data": {
      "text/html": [
       "<div>\n",
       "<style scoped>\n",
       "    .dataframe tbody tr th:only-of-type {\n",
       "        vertical-align: middle;\n",
       "    }\n",
       "\n",
       "    .dataframe tbody tr th {\n",
       "        vertical-align: top;\n",
       "    }\n",
       "\n",
       "    .dataframe thead th {\n",
       "        text-align: right;\n",
       "    }\n",
       "</style>\n",
       "<table border=\"1\" class=\"dataframe\">\n",
       "  <thead>\n",
       "    <tr style=\"text-align: right;\">\n",
       "      <th></th>\n",
       "      <th>Molecule ChEMBL ID</th>\n",
       "      <th>pChEMBL_value</th>\n",
       "      <th>Smiles</th>\n",
       "      <th>Assay_Type</th>\n",
       "      <th>Standard Relation</th>\n",
       "      <th>Standard Value</th>\n",
       "      <th>active</th>\n",
       "      <th>fp</th>\n",
       "    </tr>\n",
       "  </thead>\n",
       "  <tbody>\n",
       "    <tr>\n",
       "      <th>0</th>\n",
       "      <td>CHEMBL228278</td>\n",
       "      <td>6.88</td>\n",
       "      <td>COc1ccc(S(=O)(=O)N[C@H]2CC[C@H](N3CCC(c4ccccc4...</td>\n",
       "      <td>B</td>\n",
       "      <td>'='</td>\n",
       "      <td>133.0</td>\n",
       "      <td>1.0</td>\n",
       "      <td>[0, 0, 0, 0, 0, 0, 0, 0, 0, 0, 0, 0, 0, 0, 0, ...</td>\n",
       "    </tr>\n",
       "    <tr>\n",
       "      <th>1</th>\n",
       "      <td>CHEMBL390129</td>\n",
       "      <td>6.78</td>\n",
       "      <td>COc1ccc(S(=O)(=O)N[C@H]2CC[C@@H](N3CCC(c4ccccc...</td>\n",
       "      <td>B</td>\n",
       "      <td>'='</td>\n",
       "      <td>165.0</td>\n",
       "      <td>1.0</td>\n",
       "      <td>[0, 0, 0, 0, 0, 0, 0, 0, 0, 0, 0, 0, 0, 0, 0, ...</td>\n",
       "    </tr>\n",
       "    <tr>\n",
       "      <th>2</th>\n",
       "      <td>CHEMBL256597</td>\n",
       "      <td>8.33</td>\n",
       "      <td>CC(C)Oc1ccccc1N1CCN(C2CCC(NC(=O)Nc3c(Cl)cccc3C...</td>\n",
       "      <td>B</td>\n",
       "      <td>'='</td>\n",
       "      <td>4.7</td>\n",
       "      <td>1.0</td>\n",
       "      <td>[0, 0, 0, 0, 0, 0, 0, 0, 0, 0, 0, 0, 0, 0, 0, ...</td>\n",
       "    </tr>\n",
       "  </tbody>\n",
       "</table>\n",
       "</div>"
      ],
      "text/plain": [
       "  Molecule ChEMBL ID  pChEMBL_value  \\\n",
       "0       CHEMBL228278           6.88   \n",
       "1       CHEMBL390129           6.78   \n",
       "2       CHEMBL256597           8.33   \n",
       "\n",
       "                                              Smiles Assay_Type  \\\n",
       "0  COc1ccc(S(=O)(=O)N[C@H]2CC[C@H](N3CCC(c4ccccc4...          B   \n",
       "1  COc1ccc(S(=O)(=O)N[C@H]2CC[C@@H](N3CCC(c4ccccc...          B   \n",
       "2  CC(C)Oc1ccccc1N1CCN(C2CCC(NC(=O)Nc3c(Cl)cccc3C...          B   \n",
       "\n",
       "  Standard Relation  Standard Value  active  \\\n",
       "0               '='           133.0     1.0   \n",
       "1               '='           165.0     1.0   \n",
       "2               '='             4.7     1.0   \n",
       "\n",
       "                                                  fp  \n",
       "0  [0, 0, 0, 0, 0, 0, 0, 0, 0, 0, 0, 0, 0, 0, 0, ...  \n",
       "1  [0, 0, 0, 0, 0, 0, 0, 0, 0, 0, 0, 0, 0, 0, 0, ...  \n",
       "2  [0, 0, 0, 0, 0, 0, 0, 0, 0, 0, 0, 0, 0, 0, 0, ...  "
      ]
     },
     "execution_count": 10,
     "metadata": {},
     "output_type": "execute_result"
    }
   ],
   "source": [
    "compound_df[\"fp\"] = compound_df[\"Smiles\"].apply(smiles_to_fp)\n",
    "compound_df.drop(compound_df[compound_df.fp == 'NaN'].index, inplace=True)\n",
    "compound_df.head(3)"
   ]
  },
  {
   "cell_type": "code",
   "execution_count": 11,
   "metadata": {},
   "outputs": [],
   "source": [
    "def plot_roc_curves_for_models(models, test_x, test_y, save_png=True):\n",
    "    \"\"\"\n",
    "    Helper function to plot customized roc curve.\n",
    "\n",
    "    Parameters\n",
    "    ----------\n",
    "    models: dict\n",
    "        Dictionary of pretrained machine learning models.\n",
    "    test_x: list\n",
    "        Molecular fingerprints for test set.\n",
    "    test_y: list\n",
    "        Associated activity labels for test set.\n",
    "    save_png: bool\n",
    "        Save image to disk (default = False)\n",
    "\n",
    "    Returns\n",
    "    -------\n",
    "    fig:\n",
    "        Figure.\n",
    "    \"\"\"\n",
    "\n",
    "    fig, ax = plt.subplots()\n",
    "\n",
    "    for model in models:\n",
    "        ml_model = model[\"model\"]\n",
    "        test_prob = ml_model.predict_proba(test_x)[:, 1]\n",
    "        test_pred = ml_model.predict(test_x)\n",
    "        fpr, tpr, thresholds = metrics.roc_curve(test_y, test_prob)\n",
    "        auc = roc_auc_score(test_y, test_prob)\n",
    "        ax.plot(fpr, tpr, label=(f\"{model['label']} AUC area = {auc:.2f}\"))\n",
    "\n",
    "    ax.plot([0, 1], [0, 1], \"r--\")\n",
    "    ax.set_xlabel(\"False Positive Rate\")\n",
    "    ax.set_ylabel(\"True Positive Rate\")\n",
    "    ax.set_title(\"Receiver Operating Characteristic\")\n",
    "    ax.legend(loc=\"lower right\")\n",
    "    if save_png:\n",
    "        fig.savefig(f\"results/roc_auc\", dpi=300, bbox_inches=\"tight\", transparent=True)\n",
    "    return fig"
   ]
  },
  {
   "cell_type": "code",
   "execution_count": 12,
   "metadata": {},
   "outputs": [],
   "source": [
    "def model_performance(ml_model, test_x, test_y, verbose=True):\n",
    "    \"\"\"\n",
    "    Helper function to calculate model performance\n",
    "\n",
    "    Parameters\n",
    "    ----------\n",
    "    ml_model: sklearn model object\n",
    "        The machine learning model to train.\n",
    "    test_x: list\n",
    "        Molecular fingerprints for test set.\n",
    "    test_y: list\n",
    "        Associated activity labels for test set.\n",
    "    verbose: bool\n",
    "        Print performance measure (default = True)\n",
    "\n",
    "    Returns\n",
    "    -------\n",
    "    tuple:\n",
    "        Accuracy, sensitivity, specificity, auc on test set.\n",
    "    \"\"\"\n",
    "\n",
    "    test_prob = ml_model.predict_proba(test_x)[:, 1]\n",
    "\n",
    "    test_pred = ml_model.predict(test_x)\n",
    "\n",
    "    accuracy = accuracy_score(test_y, test_pred)\n",
    "    sens = recall_score(test_y, test_pred)\n",
    "    spec = recall_score(test_y, test_pred, pos_label=0)\n",
    "    auc = roc_auc_score(test_y, test_prob)\n",
    "\n",
    "    if verbose:\n",
    "        print(f\"Sensitivity: {sens:.2f}\")\n",
    "        print(f\"Specificity: {spec:.2f}\")\n",
    "        print(f\"AUC: {auc:.2f}\")\n",
    "\n",
    "    return accuracy, sens, spec, auc"
   ]
  },
  {
   "cell_type": "code",
   "execution_count": 13,
   "metadata": {},
   "outputs": [],
   "source": [
    "def model_training_and_validation(ml_model, name, splits, verbose=True):\n",
    "    \"\"\"\n",
    "    Fit a machine learning model on a random train-test split of the data\n",
    "    and return the performance measures.\n",
    "\n",
    "    Parameters\n",
    "    ----------\n",
    "    ml_model: sklearn model object\n",
    "        The machine learning model to train.\n",
    "    name: str\n",
    "        Name of machine learning algorithm: RF, SVM, ANN\n",
    "    splits: list\n",
    "        List of desciptor and label data: train_x, test_x, train_y, test_y.\n",
    "    verbose: bool\n",
    "        Print performance info (default = True)\n",
    "\n",
    "    Returns\n",
    "    -------\n",
    "    tuple:\n",
    "        Accuracy, sensitivity, specificity, auc on test set.\n",
    "\n",
    "    \"\"\"\n",
    "    train_x, test_x, train_y, test_y = splits\n",
    "\n",
    "    ml_model.fit(train_x, train_y)\n",
    "\n",
    "    accuracy, sens, spec, auc = model_performance(ml_model, test_x, test_y, verbose)\n",
    "\n",
    "    return accuracy, sens, spec, auc"
   ]
  },
  {
   "cell_type": "code",
   "execution_count": 14,
   "metadata": {},
   "outputs": [
    {
     "name": "stdout",
     "output_type": "stream",
     "text": [
      "Training data size: 13316\n",
      "Test data size: 3330\n"
     ]
    }
   ],
   "source": [
    "fingerprint_to_model = compound_df.fp.tolist()\n",
    "label_to_model = compound_df.active.tolist()\n",
    "\n",
    "(\n",
    "    static_train_x,\n",
    "    static_test_x,\n",
    "    static_train_y,\n",
    "    static_test_y,\n",
    ") = train_test_split(fingerprint_to_model, label_to_model, test_size=0.2, random_state=12)\n",
    "splits = [static_train_x, static_test_x, static_train_y, static_test_y]\n",
    "print(\"Training data size:\", len(static_train_x))\n",
    "print(\"Test data size:\", len(static_test_x))"
   ]
  },
  {
   "cell_type": "code",
   "execution_count": 15,
   "metadata": {},
   "outputs": [],
   "source": [
    "param = {\n",
    "    \"n_estimators\": 100,\n",
    "    \"criterion\": \"entropy\",\n",
    "}\n",
    "model_RF = RandomForestClassifier(**param)"
   ]
  },
  {
   "cell_type": "code",
   "execution_count": 16,
   "metadata": {},
   "outputs": [
    {
     "name": "stdout",
     "output_type": "stream",
     "text": [
      "Sensitivity: 0.69\n",
      "Specificity: 0.86\n",
      "AUC: 0.87\n"
     ]
    }
   ],
   "source": [
    "performance_measures = model_training_and_validation(model_RF, \"RF\", splits)"
   ]
  },
  {
   "cell_type": "code",
   "execution_count": 17,
   "metadata": {},
   "outputs": [
    {
     "name": "stdout",
     "output_type": "stream",
     "text": [
      "Directory already exists, continuing\n"
     ]
    },
    {
     "data": {
      "text/plain": [
       "'/home/jovyan/Cheminformatics/results/roc_auc.png'"
      ]
     },
     "execution_count": 17,
     "metadata": {},
     "output_type": "execute_result"
    },
    {
     "data": {
      "image/png": "[encoded data removed]",
      "text/plain": [
       "<Figure size 640x480 with 1 Axes>"
      ]
     },
     "metadata": {},
     "output_type": "display_data"
    }
   ],
   "source": [
    "models = [{\"label\": \"Model_RF\", \"model\": model_RF}]\n",
    "try:\n",
    "    os.mkdir('results')\n",
    "except:\n",
    "    print(\"Directory already exists, continuing\")\n",
    "plot_roc_curves_for_models(models, static_test_x, static_test_y)\n",
    "result_img = '{}/results/roc_auc.png'.format(os.getcwd())\n",
    "result_img"
   ]
  },
  {
   "cell_type": "code",
   "execution_count": 18,
   "metadata": {
    "scrolled": true
   },
   "outputs": [
    {
     "name": "stdout",
     "output_type": "stream",
     "text": [
      "Sensitivity: 0.69\n",
      "Specificity: 0.86\n",
      "AUC: 0.85\n"
     ]
    }
   ],
   "source": [
    "model_SVM = svm.SVC(kernel=\"rbf\", C=1, gamma=0.1, probability=True)\n",
    "\n",
    "performance_measures = model_training_and_validation(model_SVM, \"SVM\", splits)"
   ]
  },
  {
   "cell_type": "code",
   "execution_count": 19,
   "metadata": {
    "tags": [
     "nbsphinx-thumbnail"
    ]
   },
   "outputs": [
    {
     "data": {
      "text/plain": [
       "'/home/jovyan/Cheminformatics/results/roc_auc.png'"
      ]
     },
     "execution_count": 19,
     "metadata": {},
     "output_type": "execute_result"
    },
    {
     "data": {
      "image/png": "[encoded data removed]",
      "text/plain": [
       "<Figure size 640x480 with 1 Axes>"
      ]
     },
     "metadata": {},
     "output_type": "display_data"
    }
   ],
   "source": [
    "models.append({\"label\": \"Model_SVM\", \"model\": model_SVM})\n",
    "\n",
    "plot_roc_curves_for_models(models, static_test_x, static_test_y)\n",
    "result_img = '{}/results/roc_auc.png'.format(os.getcwd())\n",
    "result_img"
   ]
  },
  {
   "cell_type": "code",
   "execution_count": 20,
   "metadata": {
    "scrolled": true
   },
   "outputs": [
    {
     "name": "stdout",
     "output_type": "stream",
     "text": [
      "Sensitivity: 0.64\n",
      "Specificity: 0.79\n",
      "AUC: 0.81\n"
     ]
    }
   ],
   "source": [
    "model_ANN = MLPClassifier(hidden_layer_sizes=(5, 3), random_state=12)\n",
    "\n",
    "performance_measures = model_training_and_validation(model_ANN, \"ANN\", splits)"
   ]
  },
  {
   "cell_type": "code",
   "execution_count": 21,
   "metadata": {},
   "outputs": [
    {
     "data": {
      "text/plain": [
       "'/home/jovyan/Cheminformatics/results/roc_auc.png'"
      ]
     },
     "execution_count": 21,
     "metadata": {},
     "output_type": "execute_result"
    },
    {
     "data": {
      "image/png": "[encoded data removed]",
      "text/plain": [
       "<Figure size 640x480 with 1 Axes>"
      ]
     },
     "metadata": {},
     "output_type": "display_data"
    }
   ],
   "source": [
    "models.append({\"label\": \"Model_ANN\", \"model\": model_ANN})\n",
    "plot_roc_curves_for_models(models, static_test_x, static_test_y, True)\n",
    "result_img = '{}/results/roc_auc.png'.format(os.getcwd())\n",
    "result_img"
   ]
  },
  {
   "cell_type": "code",
   "execution_count": 22,
   "metadata": {},
   "outputs": [],
   "source": [
    "def crossvalidation(ml_model, df, n_folds=5, verbose=False):\n",
    "    \"\"\"\n",
    "    Machine learning model training and validation in a cross-validation loop.\n",
    "\n",
    "    Parameters\n",
    "    ----------\n",
    "    ml_model: sklearn model object\n",
    "        The machine learning model to train.\n",
    "    df: pd.DataFrame\n",
    "        Data set with SMILES and their associated activity labels.\n",
    "    n_folds: int, optional\n",
    "        Number of folds for cross-validation.\n",
    "    verbose: bool, optional\n",
    "        Performance measures are printed.\n",
    "\n",
    "    Returns\n",
    "    -------\n",
    "    None\n",
    "\n",
    "    \"\"\"\n",
    "    t0 = time.time()\n",
    "    kf = KFold(n_splits=n_folds, shuffle=True, random_state=SEED)\n",
    "\n",
    "    acc_per_fold = []\n",
    "    sens_per_fold = []\n",
    "    spec_per_fold = []\n",
    "    auc_per_fold = []\n",
    "\n",
    "    for train_index, test_index in kf.split(df):\n",
    "        fold_model = clone(ml_model)\n",
    "\n",
    "        train_x = df.iloc[train_index].fp.tolist()\n",
    "        train_y = df.iloc[train_index].active.tolist()\n",
    "\n",
    "        fold_model.fit(train_x, train_y)\n",
    "\n",
    "        test_x = df.iloc[test_index].fp.tolist()\n",
    "        test_y = df.iloc[test_index].active.tolist()\n",
    "\n",
    "        accuracy, sens, spec, auc = model_performance(fold_model, test_x, test_y, verbose)\n",
    "\n",
    "        acc_per_fold.append(accuracy)\n",
    "        sens_per_fold.append(sens)\n",
    "        spec_per_fold.append(spec)\n",
    "        auc_per_fold.append(auc)\n",
    "\n",
    "    print(\n",
    "        f\"Mean accuracy: {np.mean(acc_per_fold):.2f} \\t\"\n",
    "        f\"and std : {np.std(acc_per_fold):.2f} \\n\"\n",
    "        f\"Mean sensitivity: {np.mean(sens_per_fold):.2f} \\t\"\n",
    "        f\"and std : {np.std(sens_per_fold):.2f} \\n\"\n",
    "        f\"Mean specificity: {np.mean(spec_per_fold):.2f} \\t\"\n",
    "        f\"and std : {np.std(spec_per_fold):.2f} \\n\"\n",
    "        f\"Mean AUC: {np.mean(auc_per_fold):.2f} \\t\"\n",
    "        f\"and std : {np.std(auc_per_fold):.2f} \\n\"\n",
    "        f\"Time taken : {time.time() - t0:.2f}s\\n\"\n",
    "    )\n",
    "\n",
    "    return acc_per_fold, sens_per_fold, spec_per_fold, auc_per_fold"
   ]
  },
  {
   "cell_type": "code",
   "execution_count": 23,
   "metadata": {},
   "outputs": [],
   "source": [
    "N_FOLDS = 3"
   ]
  },
  {
   "cell_type": "code",
   "execution_count": 24,
   "metadata": {},
   "outputs": [
    {
     "name": "stdout",
     "output_type": "stream",
     "text": [
      "\n",
      "======= \n",
      "Model_RF\n",
      "Mean accuracy: 0.79 \tand std : 0.00 \n",
      "Mean sensitivity: 0.70 \tand std : 0.01 \n",
      "Mean specificity: 0.84 \tand std : 0.00 \n",
      "Mean AUC: 0.86 \tand std : 0.00 \n",
      "Time taken : 5.88s\n",
      "\n",
      "\n",
      "======= \n",
      "Model_SVM\n",
      "Mean accuracy: 0.79 \tand std : 0.00 \n",
      "Mean sensitivity: 0.69 \tand std : 0.01 \n",
      "Mean specificity: 0.85 \tand std : 0.01 \n",
      "Mean AUC: 0.85 \tand std : 0.00 \n",
      "Time taken : 344.27s\n",
      "\n",
      "\n",
      "======= \n",
      "Model_ANN\n",
      "Mean accuracy: 0.73 \tand std : 0.01 \n",
      "Mean sensitivity: 0.66 \tand std : 0.02 \n",
      "Mean specificity: 0.78 \tand std : 0.01 \n",
      "Mean AUC: 0.80 \tand std : 0.01 \n",
      "Time taken : 18.96s\n",
      "\n"
     ]
    }
   ],
   "source": [
    "for model in models:\n",
    "    print(\"\\n======= \")\n",
    "    print(f\"{model['label']}\")\n",
    "    crossvalidation(model[\"model\"], compound_df, n_folds=N_FOLDS)"
   ]
  },
  {
   "cell_type": "code",
   "execution_count": 25,
   "metadata": {},
   "outputs": [],
   "source": [
    "compound_df = compound_df.drop(['fp'], axis=1)"
   ]
  },
  {
   "cell_type": "code",
   "execution_count": 26,
   "metadata": {},
   "outputs": [
    {
     "data": {
      "text/html": [
       "<div>\n",
       "<style scoped>\n",
       "    .dataframe tbody tr th:only-of-type {\n",
       "        vertical-align: middle;\n",
       "    }\n",
       "\n",
       "    .dataframe tbody tr th {\n",
       "        vertical-align: top;\n",
       "    }\n",
       "\n",
       "    .dataframe thead th {\n",
       "        text-align: right;\n",
       "    }\n",
       "</style>\n",
       "<table border=\"1\" class=\"dataframe\">\n",
       "  <thead>\n",
       "    <tr style=\"text-align: right;\">\n",
       "      <th></th>\n",
       "      <th>Molecule ChEMBL ID</th>\n",
       "      <th>pChEMBL_value</th>\n",
       "      <th>Smiles</th>\n",
       "      <th>Assay_Type</th>\n",
       "      <th>Standard Relation</th>\n",
       "      <th>Standard Value</th>\n",
       "      <th>active</th>\n",
       "      <th>fp</th>\n",
       "    </tr>\n",
       "  </thead>\n",
       "  <tbody>\n",
       "    <tr>\n",
       "      <th>0</th>\n",
       "      <td>CHEMBL228278</td>\n",
       "      <td>6.88</td>\n",
       "      <td>COc1ccc(S(=O)(=O)N[C@H]2CC[C@H](N3CCC(c4ccccc4...</td>\n",
       "      <td>B</td>\n",
       "      <td>'='</td>\n",
       "      <td>133.0</td>\n",
       "      <td>1.0</td>\n",
       "      <td>[0, 0, 0, 0, 0, 0, 0, 0, 0, 1, 0, 0, 0, 0, 0, ...</td>\n",
       "    </tr>\n",
       "    <tr>\n",
       "      <th>1</th>\n",
       "      <td>CHEMBL390129</td>\n",
       "      <td>6.78</td>\n",
       "      <td>COc1ccc(S(=O)(=O)N[C@H]2CC[C@@H](N3CCC(c4ccccc...</td>\n",
       "      <td>B</td>\n",
       "      <td>'='</td>\n",
       "      <td>165.0</td>\n",
       "      <td>1.0</td>\n",
       "      <td>[0, 1, 0, 0, 0, 0, 0, 0, 0, 1, 0, 0, 0, 0, 0, ...</td>\n",
       "    </tr>\n",
       "    <tr>\n",
       "      <th>2</th>\n",
       "      <td>CHEMBL256597</td>\n",
       "      <td>8.33</td>\n",
       "      <td>CC(C)Oc1ccccc1N1CCN(C2CCC(NC(=O)Nc3c(Cl)cccc3C...</td>\n",
       "      <td>B</td>\n",
       "      <td>'='</td>\n",
       "      <td>4.7</td>\n",
       "      <td>1.0</td>\n",
       "      <td>[0, 1, 0, 0, 0, 0, 0, 0, 0, 1, 0, 0, 0, 0, 0, ...</td>\n",
       "    </tr>\n",
       "  </tbody>\n",
       "</table>\n",
       "</div>"
      ],
      "text/plain": [
       "  Molecule ChEMBL ID  pChEMBL_value  \\\n",
       "0       CHEMBL228278           6.88   \n",
       "1       CHEMBL390129           6.78   \n",
       "2       CHEMBL256597           8.33   \n",
       "\n",
       "                                              Smiles Assay_Type  \\\n",
       "0  COc1ccc(S(=O)(=O)N[C@H]2CC[C@H](N3CCC(c4ccccc4...          B   \n",
       "1  COc1ccc(S(=O)(=O)N[C@H]2CC[C@@H](N3CCC(c4ccccc...          B   \n",
       "2  CC(C)Oc1ccccc1N1CCN(C2CCC(NC(=O)Nc3c(Cl)cccc3C...          B   \n",
       "\n",
       "  Standard Relation  Standard Value  active  \\\n",
       "0               '='           133.0     1.0   \n",
       "1               '='           165.0     1.0   \n",
       "2               '='             4.7     1.0   \n",
       "\n",
       "                                                  fp  \n",
       "0  [0, 0, 0, 0, 0, 0, 0, 0, 0, 1, 0, 0, 0, 0, 0, ...  \n",
       "1  [0, 1, 0, 0, 0, 0, 0, 0, 0, 1, 0, 0, 0, 0, 0, ...  \n",
       "2  [0, 1, 0, 0, 0, 0, 0, 0, 0, 1, 0, 0, 0, 0, 0, ...  "
      ]
     },
     "execution_count": 26,
     "metadata": {},
     "output_type": "execute_result"
    }
   ],
   "source": [
    "compound_df[\"fp\"] = compound_df[\"Smiles\"].apply(smiles_to_fp, args=(\"morgan3\",))\n",
    "compound_df.head(3)"
   ]
  },
  {
   "cell_type": "code",
   "execution_count": 27,
   "metadata": {
    "scrolled": true
   },
   "outputs": [
    {
     "name": "stdout",
     "output_type": "stream",
     "text": [
      "\n",
      "=======\n",
      "Model_RF\n",
      "Mean accuracy: 0.80 \tand std : 0.00 \n",
      "Mean sensitivity: 0.72 \tand std : 0.00 \n",
      "Mean specificity: 0.86 \tand std : 0.00 \n",
      "Mean AUC: 0.88 \tand std : 0.00 \n",
      "Time taken : 44.98s\n",
      "\n",
      "\n",
      "=======\n",
      "Model_ANN\n",
      "Mean accuracy: 0.78 \tand std : 0.00 \n",
      "Mean sensitivity: 0.70 \tand std : 0.01 \n",
      "Mean specificity: 0.82 \tand std : 0.01 \n",
      "Mean AUC: 0.85 \tand std : 0.01 \n",
      "Time taken : 251.63s\n",
      "\n"
     ]
    }
   ],
   "source": [
    "for model in models:\n",
    "    if model[\"label\"] == \"Model_SVM\":\n",
    "\n",
    "        continue\n",
    "    print(\"\\n=======\")\n",
    "    print(model[\"label\"])\n",
    "    reduced_df = compound_df[['active','fp']]\n",
    "    crossvalidation(model[\"model\"], reduced_df, n_folds=N_FOLDS)"
   ]
  },
  {
   "cell_type": "code",
   "execution_count": 28,
   "metadata": {},
   "outputs": [],
   "source": [
    "def crossvalidation_reg(ml_model, df, n_folds=5, verbose=False):\n",
    "    \"\"\"\n",
    "    Machine learning model training and validation in a cross-validation loop.\n",
    "\n",
    "    Parameters\n",
    "    ----------\n",
    "    ml_model: sklearn model object\n",
    "        The machine learning model to train.\n",
    "    df: pd.DataFrame\n",
    "        Data set with SMILES and their associated activity labels.\n",
    "    n_folds: int, optional\n",
    "        Number of folds for cross-validation.\n",
    "    verbose: bool, optional\n",
    "        Performance measures are printed.\n",
    "\n",
    "    Returns\n",
    "    -------\n",
    "    None\n",
    "\n",
    "    \"\"\"\n",
    "    t0 = time.time()\n",
    "    kf = KFold(n_splits=n_folds, shuffle=True, random_state=SEED)\n",
    "\n",
    "    MAE_per_fold = []\n",
    "    RMSE_per_fold = []\n",
    "\n",
    "    for train_index, test_index in kf.split(df):\n",
    "        fold_model = clone(ml_model)\n",
    "\n",
    "        train_x = df.iloc[train_index].fp.tolist()\n",
    "        train_y = df.iloc[train_index].pChEMBL_value.tolist()\n",
    "\n",
    "        fold_model.fit(train_x, train_y)\n",
    "\n",
    "\n",
    "        test_x = df.iloc[test_index].fp.tolist()\n",
    "        test_y = df.iloc[test_index].pChEMBL_value.tolist()\n",
    "        \n",
    "        test_results = fold_model.predict(test_x)\n",
    "        from sklearn import metrics\n",
    "\n",
    "        MAE_per_fold.append(metrics.mean_absolute_error(test_y, test_results))\n",
    "        RMSE_per_fold.append(np.sqrt(metrics.mean_squared_error(test_y, test_results)))\n",
    "        \n",
    "    return(MAE_per_fold,RMSE_per_fold,fold_model)"
   ]
  },
  {
   "cell_type": "code",
   "execution_count": 29,
   "metadata": {},
   "outputs": [
    {
     "name": "stdout",
     "output_type": "stream",
     "text": [
      "Training data size: 13316\n",
      "Test data size: 3330\n"
     ]
    }
   ],
   "source": [
    "fingerprint_to_model = compound_df.fp.tolist()\n",
    "label_to_model = compound_df.pChEMBL_value.tolist()\n",
    "\n",
    "(\n",
    "    static_train_x,\n",
    "    static_test_x,\n",
    "    static_train_y,\n",
    "    static_test_y,\n",
    ") = train_test_split(fingerprint_to_model, label_to_model, test_size=0.2, random_state=12)\n",
    "splits = [static_train_x, static_test_x, static_train_y, static_test_y]\n",
    "print(\"Training data size:\", len(static_train_x))\n",
    "print(\"Test data size:\", len(static_test_x))"
   ]
  },
  {
   "cell_type": "code",
   "execution_count": 30,
   "metadata": {
    "scrolled": true
   },
   "outputs": [
    {
     "name": "stdout",
     "output_type": "stream",
     "text": [
      "MAE: 0.47 \tand std : 0.01 \n",
      "RMSE: 0.66 \tand std : 0.02 \n",
      "\n"
     ]
    }
   ],
   "source": [
    "compound_df_noNaN = compound_df.dropna()\n",
    "\n",
    "regressor = RandomForestRegressor()\n",
    "MAE, RMSE,trained_model = crossvalidation_reg(regressor , compound_df_noNaN, n_folds=N_FOLDS)\n",
    "\n",
    "print(\n",
    "f\"MAE: {np.mean(MAE):.2f} \\t\"\n",
    "f\"and std : {np.std(MAE):.2f} \\n\"\n",
    "f\"RMSE: {np.mean(RMSE):.2f} \\t\"\n",
    "f\"and std : {np.std(RMSE):.2f} \\n\"\n",
    ")"
   ]
  },
  {
   "cell_type": "code",
   "execution_count": 33,
   "metadata": {},
   "outputs": [
    {
     "name": "stdout",
     "output_type": "stream",
     "text": [
      "SMILES, PREDICTION\n",
      "C1CN(CCC1(C2=CC=C(C=C2)Cl)O)CCCC(=O)C3=CC=C(C=C3)F,8.78\n",
      "C1CN(CCC1(C2=CC=C(C=C2)Cl)N)CCCC(=O)C3=CC=C(C=C3)F,8.75\n",
      "ClC(C=C1)=CC=C1C(CC2)(CO)CCN2CCCC(C3=CC=C(F)C=C3)=O,8.76\n",
      "ClC(C=C1)=CC=C1C(CC2)(CN)CCN2CCCC(C3=CC=C(F)C=C3)=O,8.79\n",
      "ClC(C=C1)=CC=C1C(CC2)(C#N)CCN2CCCC(C3=CC=C(F)C=C3)=O,8.77\n",
      "ClC(C=C1)=CC=C1C(CC2)(CN)CCN2CCC(CC3=CC=C(F)C=C3)=O,6.37\n",
      "ClC1=CC=C(C2(CN)CCN(CCCC(C3=CC=C(C=C3)F)=O)CC2)C=C1,8.79\n",
      "FC(C=C1)=CC=C1C2(O)CCN(CCCC(C3=CC=C(F)C=C3)=O)CC2,8.54\n",
      "ClC(C=C1)=CC=C1C2(O)CCN(CCCC(C3=CC=C(Cl)C=C3)=O)CC2,7.73\n",
      "ClC(C=C1)=CC=C1C2(CCO)CCN(CCCC(C3=CC=C(F)C=C3)=O)CC2,8.74\n",
      "ClC(C=C1)=CC=C1C2(C=O)CCN(CCCC(C3=CC=C(F)C=C3)=O)CC2,8.77\n",
      "ClC(C=C1)=CC=C1C2(C(O)=O)CCN(CCCC(C3=CC=C(F)C=C3)=O)CC2,8.29\n",
      "ClC(C=C1)=CC=C1C2(CC=O)CCN(CCCC(C3=CC=C(F)C=C3)=O)CC2,8.73\n",
      "ClC(C=C1)=CC=C1C2(CC(O)=O)CCN(CCCC(C3=CC=C(F)C=C3)=O)CC2,8.67\n"
     ]
    }
   ],
   "source": [
    "test_smiles = [\n",
    "    \n",
    "    'C1CN(CCC1(C2=CC=C(C=C2)Cl)O)CCCC(=O)C3=CC=C(C=C3)F', #haloperidol\n",
    "    'C1CN(CCC1(C2=CC=C(C=C2)Cl)N)CCCC(=O)C3=CC=C(C=C3)F', #haloperidol2.0\n",
    "    'ClC(C=C1)=CC=C1C(CC2)(CO)CCN2CCCC(C3=CC=C(F)C=C3)=O', #\n",
    "    'ClC(C=C1)=CC=C1C(CC2)(CN)CCN2CCCC(C3=CC=C(F)C=C3)=O', #\n",
    "    'ClC(C=C1)=CC=C1C(CC2)(C#N)CCN2CCCC(C3=CC=C(F)C=C3)=O', #\n",
    "    'ClC(C=C1)=CC=C1C(CC2)(CN)CCN2CCC(CC3=CC=C(F)C=C3)=O', #\n",
    "    'ClC1=CC=C(C2(CN)CCN(CCCC(C3=CC=C(C=C3)F)=O)CC2)C=C1', #\n",
    "    'FC(C=C1)=CC=C1C2(O)CCN(CCCC(C3=CC=C(F)C=C3)=O)CC2', #\n",
    "    'ClC(C=C1)=CC=C1C2(O)CCN(CCCC(C3=CC=C(Cl)C=C3)=O)CC2', #\n",
    "    'ClC(C=C1)=CC=C1C2(CCO)CCN(CCCC(C3=CC=C(F)C=C3)=O)CC2', #\n",
    "    'ClC(C=C1)=CC=C1C2(C=O)CCN(CCCC(C3=CC=C(F)C=C3)=O)CC2', #\n",
    "    'ClC(C=C1)=CC=C1C2(C(O)=O)CCN(CCCC(C3=CC=C(F)C=C3)=O)CC2', #\n",
    "    'ClC(C=C1)=CC=C1C2(CC=O)CCN(CCCC(C3=CC=C(F)C=C3)=O)CC2', #\n",
    "    'ClC(C=C1)=CC=C1C2(CC(O)=O)CCN(CCCC(C3=CC=C(F)C=C3)=O)CC2', #\n",
    "]\n",
    "\n",
    "fps = []\n",
    "\n",
    "for smiles in test_smiles: \n",
    "    fp = smiles_to_fp(smiles,'morgan3')\n",
    "    fps.append(fp)\n",
    "\n",
    "predictions = trained_model.predict(fps)\n",
    "print(\"SMILES, PREDICTION\")\n",
    "for i, prediction in enumerate(predictions):\n",
    "    print('{},{:.2f}'.format(test_smiles[i], prediction))"
   ]
  }
 ],
 "metadata": {
  "kernelspec": {
   "display_name": "Python 3 (ipykernel)",
   "language": "python",
   "name": "python3"
  },
  "language_info": {
   "codemirror_mode": {
    "name": "ipython",
    "version": 3
   },
   "file_extension": ".py",
   "mimetype": "text/x-python",
   "name": "python",
   "nbconvert_exporter": "python",
   "pygments_lexer": "ipython3",
   "version": "3.9.13"
  },
  "toc-autonumbering": true,
  "widgets": {
   "application/vnd.jupyter.widget-state+json": {
    "state": {},
    "version_major": 2,
    "version_minor": 0
   }
  }
 },
 "nbformat": 4,
 "nbformat_minor": 4
}
